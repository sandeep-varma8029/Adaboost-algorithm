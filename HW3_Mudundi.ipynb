{
  "nbformat": 4,
  "nbformat_minor": 0,
  "metadata": {
    "colab": {
      "name": "HW3_Mudundi.ipynb",
      "provenance": [],
      "collapsed_sections": []
    },
    "kernelspec": {
      "name": "python3",
      "display_name": "Python 3"
    },
    "language_info": {
      "name": "python"
    }
  },
  "cells": [
    {
      "cell_type": "code",
      "execution_count": 614,
      "metadata": {
        "id": "JTKT-BtswX6-"
      },
      "outputs": [],
      "source": [
        "import numpy as np\n",
        "import pandas as pd\n",
        "import matplotlib.pyplot as plt\n",
        "from random import sample\n",
        "import random\n",
        "from sklearn.tree import DecisionTreeClassifier\n",
        "from sklearn.metrics import confusion_matrix\n",
        "from sklearn import tree\n",
        "from math import log,exp\n",
        "from sklearn.model_selection import train_test_split"
      ]
    },
    {
      "cell_type": "code",
      "source": [
        "training_file=\"/content/1646102559_507402_train35.txt\"\n"
      ],
      "metadata": {
        "id": "sSIL2WZlaEce"
      },
      "execution_count": 615,
      "outputs": []
    },
    {
      "cell_type": "code",
      "source": [
        "data = pd.read_table(training_file,names=[\"Total_Data\"])\n",
        "df = data['Total_Data'].str.split(',',expand=True)\n",
        "df=df.rename(columns = {0:'Digit'})\n",
        "df['Label'] = df['Digit'].replace(to_replace = ['5','3'], value=[1,-1])\n",
        "example = df.drop('Digit', axis = 1)"
      ],
      "metadata": {
        "id": "2cJZIaeCY_If"
      },
      "execution_count": 616,
      "outputs": []
    },
    {
      "cell_type": "code",
      "source": [
        "X_train, X_test, y_train, y_test = train_test_split(example.iloc[0:len(example),0:256], example.iloc[0:len(example),256], test_size=0.25)\n"
      ],
      "metadata": {
        "id": "fU-jVOpr-fs-"
      },
      "execution_count": 617,
      "outputs": []
    },
    {
      "cell_type": "code",
      "source": [
        "Tr_Test=X_test.to_numpy()\n",
        "Tr_Test = Tr_Test[0:len(X_test),0:256]\n",
        "Tr_Test=Tr_Test.astype(np.float)"
      ],
      "metadata": {
        "colab": {
          "base_uri": "https://localhost:8080/"
        },
        "id": "TQcgc4Ww05ZM",
        "outputId": "2fa67b1e-6838-40f3-a55d-c5781a4821d4"
      },
      "execution_count": 618,
      "outputs": [
        {
          "output_type": "stream",
          "name": "stderr",
          "text": [
            "/usr/local/lib/python3.7/dist-packages/ipykernel_launcher.py:3: DeprecationWarning: `np.float` is a deprecated alias for the builtin `float`. To silence this warning, use `float` by itself. Doing this will not modify any behavior and is safe. If you specifically wanted the numpy scalar type, use `np.float64` here.\n",
            "Deprecated in NumPy 1.20; for more details and guidance: https://numpy.org/devdocs/release/1.20.0-notes.html#deprecations\n",
            "  This is separate from the ipykernel package so we can avoid doing imports until\n"
          ]
        }
      ]
    },
    {
      "cell_type": "code",
      "source": [
        "X_train['Label']=y_train"
      ],
      "metadata": {
        "id": "bm1KifUKlERQ"
      },
      "execution_count": 619,
      "outputs": []
    },
    {
      "cell_type": "code",
      "source": [
        "Train=X_train"
      ],
      "metadata": {
        "id": "8TrhkMxokaIo"
      },
      "execution_count": 620,
      "outputs": []
    },
    {
      "cell_type": "code",
      "source": [
        "def adaboost_sk(X,k):\n",
        "  alphas = []\n",
        "  G_M = []\n",
        "  error=[]\n",
        "  example['weight'] = 1/(example.shape[0])\n",
        "  train_error=[]\n",
        "  for i in range(k):\n",
        "    random.seed(10*i)\n",
        "    example1 = example.sample(len(example), replace = True, weights = example['weight'])\n",
        "    X_i = example1.iloc[0:len(example),0:256]\n",
        "    y_i = example1.iloc[0:len(example),256]\n",
        "    clf_gini = DecisionTreeClassifier(criterion = \"gini\", random_state = 100, max_depth=1)\n",
        "    clf = clf_gini.fit(X_i, y_i)\n",
        "    y_pred = clf_gini.predict(example.iloc[0:len(X),0:256])\n",
        "    G_M.append(clf)\n",
        "    example['pred'] = y_pred\n",
        "    example.loc[example.Label != example.pred, 'misclassified'] = 1\n",
        "    example.loc[example.Label == example.pred, 'misclassified'] = 0\n",
        "    e1 = sum(example['misclassified'] * example['weight'])\n",
        "    if e1>0.5:\n",
        "      example['weight'] = 1/(example.shape[0])\n",
        "      break\n",
        "    error.append(e1)\n",
        "    alpha1 = 0.5*log((1-e1)/e1)\n",
        "    alphas.append(alpha1)\n",
        "    new_weight = example['weight']*np.exp(-1*alpha1*example['Label']*example['pred'])\n",
        "    z = sum(new_weight)\n",
        "    normalized_weight = new_weight/sum(new_weight)\n",
        "    example['weight'] = round(normalized_weight,4)\n",
        "    tr_pr=predict_sk(X_test,G_M,alphas,i)\n",
        "    train_error.append(tr_pr)\n",
        "  return e1,alphas,G_M,train_error"
      ],
      "metadata": {
        "id": "MCQ8a79W-aXo"
      },
      "execution_count": 622,
      "outputs": []
    },
    {
      "cell_type": "code",
      "source": [
        "# e1,alphas,G_M,train_error=adaboost_sk(example,200)\n",
        "# print(alphas)"
      ],
      "metadata": {
        "id": "jZW8pR0pOlSr"
      },
      "execution_count": 623,
      "outputs": []
    },
    {
      "cell_type": "code",
      "source": [
        "def adaboost(D,k):\n",
        "  alphas = []\n",
        "  C = []\n",
        "  error=[]\n",
        "  D['weight'] = 1/(D.shape[0])\n",
        "  D_test=D.to_numpy()\n",
        "  D_test = D_test[0:len(D_test),0:256]\n",
        "  D_test=D_test.astype(np.float)\n",
        "  e_i=0\n",
        "  train_error=[]\n",
        "  for i in range(k):\n",
        "    if e_i<0.5:\n",
        "      random.seed(10*i)\n",
        "      D_i = D.sample(len(D), replace = True, weights = D['weight'])\n",
        "      ex=D_i.to_numpy()\n",
        "      X = ex[0:len(D),0:256]\n",
        "      X=X.astype(np.float)\n",
        "      X=np.array(X)\n",
        "      y= ex[0:len(D),256]\n",
        "      y=y.astype(np.int)\n",
        "      y=np.array(y)\n",
        "      tree =DecisionTree(1)\n",
        "      tree.fit(X, y)\n",
        "      y_pred=tree.classify(D_test)\n",
        "      C.append(tree)\n",
        "      D['pred'] = y_pred\n",
        "      D.loc[D.Label != D.pred, 'misclassified'] = 1\n",
        "      D.loc[D.Label == D.pred, 'misclassified'] = 0\n",
        "      e_i = sum(D['misclassified'] * D['weight'])\n",
        "      error.append(e_i)\n",
        "      alpha_i = 0.5*log((1-e_i)/e_i)\n",
        "      alphas.append(alpha_i)\n",
        "      new_weight = D['weight']*np.exp(-1*alpha_i*D['Label']*D['pred'])\n",
        "      z = sum(new_weight)\n",
        "      normalized_weight = new_weight/sum(new_weight)\n",
        "      D['weight'] = round(normalized_weight,4)\n",
        "    else:\n",
        "      D['weight'] = 1/(D.shape[0])\n",
        "      random.seed(10*i)\n",
        "      D_i = D.sample(len(D), replace = True, weights = D['weight'])\n",
        "      ex=D_i.to_numpy()\n",
        "      X = ex[0:len(D),0:256]\n",
        "      X=X.astype(np.float)\n",
        "      X=np.array(X)\n",
        "      y= ex[0:len(D),256]\n",
        "      y=y.astype(np.int)\n",
        "      y=np.array(y)\n",
        "      tree =DecisionTree(1)\n",
        "      tree.fit(X, y)\n",
        "      y_pred=tree.classify(D_test)\n",
        "      C.append(tree)\n",
        "      D['pred'] = y_pred\n",
        "      D.loc[D.Label != D.pred, 'misclassified'] = 1\n",
        "      D.loc[D.Label == D.pred, 'misclassified'] = 0\n",
        "      e_i = sum(D['misclassified'] * D['weight'])\n",
        "      error.append(e_i)\n",
        "      alpha_i = 0.5*log((1-e_i)/e_i)\n",
        "      alphas.append(alpha_i)\n",
        "      new_weight = D['weight']*np.exp(-1*alpha_i*D['Label']*D['pred'])\n",
        "      z = sum(new_weight)\n",
        "      normalized_weight = new_weight/sum(new_weight)\n",
        "      D['weight'] = round(normalized_weight,4)\n",
        "    prediction,tr_pr=predict(Tr_Test,C,alphas,i)\n",
        "    train_error.append(tr_pr)\n",
        "  return alphas,C,train_error,k,error"
      ],
      "metadata": {
        "id": "Kc1lF8rxiWoo"
      },
      "execution_count": 639,
      "outputs": []
    },
    {
      "cell_type": "code",
      "source": [
        "aplh,clas,train_error,itr,error=adaboost(Train,200)"
      ],
      "metadata": {
        "id": "Rut5oBq8LBaF"
      },
      "execution_count": 640,
      "outputs": []
    },
    {
      "cell_type": "code",
      "source": [
        "import matplotlib.pyplot as plt\n",
        "import seaborn as sn\n",
        "%matplotlib inline\n",
        "plt.plot( range(len(train_error)-1),train_error[1:300])"
      ],
      "metadata": {
        "colab": {
          "base_uri": "https://localhost:8080/",
          "height": 282
        },
        "id": "iOD0W8f0Mlsu",
        "outputId": "c33dd3ee-e481-41cd-b291-8dbfc0afc6d7"
      },
      "execution_count": 629,
      "outputs": [
        {
          "output_type": "execute_result",
          "data": {
            "text/plain": [
              "[<matplotlib.lines.Line2D at 0x7f98f8237590>]"
            ]
          },
          "metadata": {},
          "execution_count": 629
        },
        {
          "output_type": "display_data",
          "data": {
            "image/png": "[encoded data removed]",
            "text/plain": [
              "<Figure size 432x288 with 1 Axes>"
            ]
          },
          "metadata": {
            "needs_background": "light"
          }
        }
      ]
    },
    {
      "cell_type": "code",
      "source": [
        "# itre=[20,40,60,80,100,120,140,160,180,200]\n",
        "# test_errors=[0.11,0.09,0.08,0.09,0.08,0.09,0.08,0.08,0.08,0.07]"
      ],
      "metadata": {
        "id": "dwrcyhKzpJUa"
      },
      "execution_count": 630,
      "outputs": []
    },
    {
      "cell_type": "code",
      "source": [
        "# plt.plot( itre,test_errors)"
      ],
      "metadata": {
        "colab": {
          "base_uri": "https://localhost:8080/",
          "height": 282
        },
        "id": "DCMB0VPLpllG",
        "outputId": "db8a61b8-56cf-4250-d168-6945a60014bc"
      },
      "execution_count": 631,
      "outputs": [
        {
          "output_type": "execute_result",
          "data": {
            "text/plain": [
              "[<matplotlib.lines.Line2D at 0x7f98f8385310>]"
            ]
          },
          "metadata": {},
          "execution_count": 631
        },
        {
          "output_type": "display_data",
          "data": {
            "image/png": "[encoded data removed]",
            "text/plain": [
              "<Figure size 432x288 with 1 Axes>"
            ]
          },
          "metadata": {
            "needs_background": "light"
          }
        }
      ]
    },
    {
      "cell_type": "code",
      "source": [
        "from collections import Counter\n",
        "import numpy as np\n",
        "class DecisionNode:\n",
        "    def __init__(self, left, right, decision_function, class_label=None):\n",
        "        self.left = left\n",
        "        self.right = right\n",
        "        self.decision_function = decision_function\n",
        "        self.class_label = class_label\n",
        "    def decide(self, feature):\n",
        "        if self.class_label is not None:\n",
        "            return self.class_label\n",
        "        elif self.decision_function(feature):\n",
        "            return self.left.decide(feature)\n",
        "        else:\n",
        "            return self.right.decide(feature)\n",
        "def gini_impurity(class_vector):\n",
        "    counts = Counter(class_vector)\n",
        "    prob_zero = counts[0] / len(class_vector)\n",
        "    prob_one = counts[1] / len(class_vector)\n",
        "    prob_sum = prob_zero ** 2 + prob_one ** 2\n",
        "    return 1 - prob_sum\n",
        "def gini_gain(previous_classes, current_classes):\n",
        "    previous_gini_gain = gini_impurity(previous_classes)\n",
        "    current_gini_gain = 0\n",
        "    previous_len = len(previous_classes)\n",
        "    if len(current_classes[0]) == 0 or len(current_classes[1]) == 0:\n",
        "        return 0\n",
        "    for ll in current_classes:\n",
        "        current_length = len(ll)\n",
        "        current_gini_gain += gini_impurity(ll) * float(current_length) / previous_len\n",
        "    return previous_gini_gain - current_gini_gain\n",
        "class DecisionTree:\n",
        "    def __init__(self, depth_limit=float('inf')):\n",
        "        self.root = None\n",
        "        self.depth_limit = depth_limit\n",
        "    def fit(self, features, classes):\n",
        "        self.root = self.__build_tree__(features, classes)\n",
        "    def __build_tree__(self, features, classes, depth=0):\n",
        "        best_info_gain = -1\n",
        "        best_column_index = -1\n",
        "        best_column_threshold = -1\n",
        "        if len(classes) == 0:\n",
        "            return None\n",
        "        elif len(classes) == 1:\n",
        "            return DecisionNode(None, None, None, classes[0])\n",
        "        elif np.all(classes[0] == classes[:]):\n",
        "            return DecisionNode(None, None, None, classes[0])\n",
        "        elif depth == self.depth_limit:\n",
        "            return DecisionNode(None, None, None, get_most_occurring_feature(classes))\n",
        "        else:\n",
        "            for column_i in range(features.shape[1]):\n",
        "                column_values_for_column_i = features[:, column_i]\n",
        "                column_mean = np.mean(column_values_for_column_i)\n",
        "                classes_new = []\n",
        "                temp_X_left, temp_X_right, temp_y_left, temp_y_right = partition_classes(features, classes, column_i, column_mean)\n",
        "                classes_new.append(temp_y_left)\n",
        "                classes_new.append(temp_y_right)\n",
        "                column_i_information_gain = gini_gain(classes, classes_new)\n",
        "                if column_i_information_gain > best_info_gain:\n",
        "                    best_info_gain = column_i_information_gain\n",
        "                    best_column_index = column_i\n",
        "                    best_column_threshold = column_mean\n",
        "            X_left, X_right, y_left, y_right = partition_classes(features, classes, best_column_index,best_column_threshold)\n",
        "            depth += 1\n",
        "            left_tree = self.__build_tree__(np.array(X_left), np.array(y_left), depth)\n",
        "            right_tree = self.__build_tree__(np.array(X_right), np.array(y_right), depth)\n",
        "            return DecisionNode(left_tree, right_tree,lambda feature: feature[best_column_index] < best_column_threshold)\n",
        "    def classify(self, features):\n",
        "        class_labels = []\n",
        "        for feature in features:\n",
        "            tree = self.root\n",
        "            class_labels.append(tree.decide(feature))\n",
        "        return class_labels\n",
        "def partition_classes(X, y, split_attribute, split_val):\n",
        "    X_left = []\n",
        "    X_right = []\n",
        "    y_left = []\n",
        "    y_right = []\n",
        "    for i in range(len(X)):\n",
        "        if float(X[i][split_attribute]) <= split_val:\n",
        "            X_left.append(X[i])\n",
        "            y_left.append(y[i])\n",
        "        else:\n",
        "            X_right.append(X[i])\n",
        "            y_right.append(y[i])\n",
        "    return X_left, X_right, y_left, y_right\n",
        "def get_most_occurring_feature(classes):\n",
        "    counter = Counter(classes)\n",
        "    k, v = counter.most_common(1)[0]\n",
        "    return k"
      ],
      "metadata": {
        "id": "hCLfvOKm7mcg"
      },
      "execution_count": null,
      "outputs": []
    },
    {
      "cell_type": "code",
      "source": [
        "def predict_sk(X,Cl,aplh,itr):\n",
        "  weak_preds = pd.DataFrame(index = range(len(X)), columns = range(itr))\n",
        "  for i in range(itr):\n",
        "    y_pred_m = Cl[i].predict(X) * aplh[i]\n",
        "    weak_preds.iloc[:,i] = y_pred_m\n",
        "  y_pred = (1 * np.sign(weak_preds.T.sum())).astype(int)\n",
        "  accuracy = 0\n",
        "  for i in range(y_pred.size):\n",
        "      if y_pred[i] == y_test.iloc[i]: \n",
        "          accuracy += 1\n",
        "  acc = accuracy / y_pred.size\n",
        "\n",
        "  return 1-acc"
      ],
      "metadata": {
        "id": "bWOSMtO1PB7T"
      },
      "execution_count": 632,
      "outputs": []
    },
    {
      "cell_type": "code",
      "source": [
        "def predict(X,Cl,aplh,itr):\n",
        "  y_Test=y_test.to_numpy()\n",
        "  y_Test=y_Test.astype(np.float)\n",
        "  weak_preds = pd.DataFrame(index = range(len(X)), columns = range(itr))\n",
        "  for i in range(itr):\n",
        "    gi=Cl[i].classify(X)\n",
        "    gi=np.array(gi)\n",
        "    y_pred_m = gi * aplh[i]\n",
        "    weak_preds.iloc[:,i] = y_pred_m\n",
        "  ypt = (1 * np.sign(weak_preds.T.sum())).astype(int)\n",
        "  accuracy = 0\n",
        "  for i in range(ypt.size):\n",
        "      if ypt[i] == y_Test[i]: \n",
        "          accuracy += 1\n",
        "  acc = accuracy / ypt.size\n",
        "  return ypt,1-acc"
      ],
      "metadata": {
        "id": "Z6oSAQ5fKoDv"
      },
      "execution_count": 633,
      "outputs": []
    },
    {
      "cell_type": "code",
      "source": [
        "test_file=\"/content/1646102559_513849_test35-nolabels.txt\"\n",
        "data_t = pd.read_table(test_file,names=[\"Total_Data\"])\n",
        "df_t = data_t['Total_Data'].str.split(',',expand=True)\n",
        "df_t.shape"
      ],
      "metadata": {
        "colab": {
          "base_uri": "https://localhost:8080/"
        },
        "id": "r9DObo7pWsJA",
        "outputId": "f852e93d-db36-4d0f-b0e3-4e082c367542"
      },
      "execution_count": 634,
      "outputs": [
        {
          "output_type": "execute_result",
          "data": {
            "text/plain": [
              "(326, 256)"
            ]
          },
          "metadata": {},
          "execution_count": 634
        }
      ]
    },
    {
      "cell_type": "code",
      "source": [
        "def predict_test(X,Cl,aplh,itr):\n",
        "  y_Test=y_test.to_numpy()\n",
        "  y_Test=y_Test.astype(np.float)\n",
        "  weak_preds = pd.DataFrame(index = range(len(X)), columns = range(itr))\n",
        "  for i in range(itr):\n",
        "    gi=Cl[i].classify(X)\n",
        "    gi=np.array(gi)\n",
        "    y_pred_m = gi * aplh[i]\n",
        "    weak_preds.iloc[:,i] = y_pred_m\n",
        "  ypt = (1 * np.sign(weak_preds.T.sum())).astype(int)\n",
        "  return ypt"
      ],
      "metadata": {
        "id": "yIUkTb8YWz8S"
      },
      "execution_count": 635,
      "outputs": []
    },
    {
      "cell_type": "code",
      "source": [
        "df_t=df_t.to_numpy()\n",
        "df_t=df_t.astype(np.float)"
      ],
      "metadata": {
        "id": "ckAEgLpqIrrO"
      },
      "execution_count": null,
      "outputs": []
    },
    {
      "cell_type": "code",
      "source": [
        "final=predict_test(df_t,clas,aplh,itr)\n",
        "final_lis = final.replace(to_replace = [1,-1], value=[5,3])"
      ],
      "metadata": {
        "id": "ZHgxmbUTXyl6"
      },
      "execution_count": null,
      "outputs": []
    },
    {
      "cell_type": "code",
      "source": [
        "for i in range(len(final_lis)):\n",
        "  print(final_lis[i])"
      ],
      "metadata": {
        "id": "i6cVBercYR-6"
      },
      "execution_count": null,
      "outputs": []
    },
    {
      "cell_type": "code",
      "source": [
        "# np.savetxt('/content/hw3_format.txt', final_lis.values)"
      ],
      "metadata": {
        "id": "kckHsiw1ZDLH"
      },
      "execution_count": null,
      "outputs": []
    }
  ]
}